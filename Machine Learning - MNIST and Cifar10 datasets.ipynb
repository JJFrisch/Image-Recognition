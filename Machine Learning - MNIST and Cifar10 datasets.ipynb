{
 "cells": [
  {
   "cell_type": "code",
   "execution_count": 1,
   "metadata": {},
   "outputs": [],
   "source": [
    "import numpy as np\n",
    "import matplotlib.pyplot as plt\n",
    "\n",
    "import tensorflow as tf\n",
    "from tensorflow import keras\n",
    "\n",
    "%matplotlib inline"
   ]
  },
  {
   "cell_type": "code",
   "execution_count": 2,
   "metadata": {},
   "outputs": [
    {
     "name": "stdout",
     "output_type": "stream",
     "text": [
      "60000 train samples\n",
      "10000 test samples\n"
     ]
    },
    {
     "data": {
      "image/png": "[encoded data removed]",
      "text/plain": [
       "<Figure size 432x288 with 1 Axes>"
      ]
     },
     "metadata": {},
     "output_type": "display_data"
    }
   ],
   "source": [
    "#MNIST\n",
    "from tensorflow.keras.datasets import mnist\n",
    "from tensorflow.keras import backend as k\n",
    "\n",
    "class MNISTClass:\n",
    "    def __init__(self):\n",
    "        img_rows = 28\n",
    "        img_cols = 28\n",
    "        self.num_classes = 10\n",
    "        \n",
    "        \n",
    "        \n",
    "        color_channels = 1\n",
    "        \n",
    "        (self.x_train, self.y_train), (self.x_test, self.y_test) = mnist.load_data()\n",
    "        (self.x_train_images, self.y_train_labels), (self.x_test_images, self.y_test_labels) = mnist.load_data()\n",
    "        \n",
    "        \n",
    "        if k.image_data_format() == \"channels_first\":\n",
    "            self.x_train = self.x_train.reshape(self.x_train.shape[0], color_channels, img_rows, img_cols)\n",
    "            self.x_test = self.x_test.reshape(self.x_test.shape[0], color_channels, img_rows, img_cols)\n",
    "        else:\n",
    "            self.x_train = self.x_train.reshape(self.x_train.shape[0], img_rows, img_cols, color_channels)\n",
    "            self.x_test = self.x_test.reshape(self.x_test.shape[0], img_rows, img_cols, color_channels)\n",
    "            self.input_shape = (img_rows, img_cols, color_channels)\n",
    "            \n",
    "        #pixels converted from int 0-255 to float 0-1\n",
    "        self.x_train = self.x_train.astype('float32')    \n",
    "        self.x_test = self.x_test.astype('float32') \n",
    "        self.x_train /= 255\n",
    "        self.x_test /= 255\n",
    "        \n",
    "        \n",
    "#         one hot coding\n",
    "        self.y_train = keras.utils.to_categorical(self.y_train, self.num_classes)\n",
    "        self.y_test = keras.utils.to_categorical(self.y_test, self.num_classes)\n",
    "        \n",
    "        print(self.x_train.shape[0], 'train samples')\n",
    "        print(self.x_test.shape[0], 'test samples')\n",
    "        \n",
    "        self.show_train_images(0)\n",
    "        \n",
    "    def show_train_images(self, index):\n",
    "        plt.imshow(self.x_train_images[index])\n",
    "        plt.title(\"Digit \" + str(self.y_train_labels[index]))\n",
    "        plt.xticks([])\n",
    "        plt.yticks([])\n",
    "        plt.show()\n",
    "\n",
    "    def show_test_image(self, index, predicted_label):\n",
    "        plt.imshow(self.x_test_images[index] )\n",
    "        plt.title(\"Actual: Digit \" + str(self.y_test_labels[index]) + \" Predicted: Digit \" + str(predicted_label))\n",
    "        plt.xticks([])\n",
    "        plt.yticks([])\n",
    "        plt.show()\n",
    "        \n",
    "mnist_data = MNISTClass()"
   ]
  },
  {
   "cell_type": "code",
   "execution_count": 3,
   "metadata": {},
   "outputs": [
    {
     "name": "stdout",
     "output_type": "stream",
     "text": [
      "50000 train samples\n",
      "10000 test samples\n"
     ]
    },
    {
     "data": {
      "image/png": "[encoded data removed]",
      "text/plain": [
       "<Figure size 432x288 with 1 Axes>"
      ]
     },
     "metadata": {},
     "output_type": "display_data"
    }
   ],
   "source": [
    "#CIFAR\n",
    "from tensorflow.keras.datasets import cifar10\n",
    "from tensorflow.keras import backend as k\n",
    "\n",
    "class CIFARClass:\n",
    "    def __init__ (self):\n",
    "        img_rows = 28\n",
    "        img_cols = 28\n",
    "        self.num_classes = 10\n",
    "        color_channels = 3\n",
    "        self.label_names=['airplane', 'automobile', 'bird', 'cat', 'deer', 'dog', 'frog', 'horse', 'ship', 'truck']\n",
    "        \n",
    "        (self.x_train, self.y_train), (self.x_test, self.y_test) = cifar10.load_data()\n",
    "        (self.x_train_images, self.y_train_labels), (self.x_test_images, self.y_test_labels) = cifar10.load_data()\n",
    "            \n",
    "        #pixels converted from int 0-255 to float 0-1\n",
    "        self.x_train = self.x_train.astype('float32')    \n",
    "        self.x_test = self.x_test.astype('float32') \n",
    "        self.x_train /= 255\n",
    "        self.x_test /= 255\n",
    "        \n",
    "        self.y_train_labels = [item for sublist in self.y_train_labels for item in sublist]\n",
    "        self.y_test_labels = [item for sublist in self.y_test_labels for item in sublist]\n",
    "        \n",
    "        \n",
    "        \n",
    "        self.y_train = keras.utils.to_categorical(self.y_train, self.num_classes)\n",
    "        self.y_test = keras.utils.to_categorical(self.y_test, self.num_classes)\n",
    "        \n",
    "        self.input_shape = (img_rows, img_cols, color_channels)\n",
    "        \n",
    "        print(self.x_train.shape[0], 'train samples')\n",
    "        print(self.x_test.shape[0], 'test samples')\n",
    "        \n",
    "        self.show_train_images(0)\n",
    "        \n",
    "    def show_train_images(self, index):\n",
    "        plt.imshow(self.x_train_images[index])\n",
    "        plt.title(\"Digit \" + str(self.y_train_labels[index]))\n",
    "        plt.xticks([])\n",
    "        plt.yticks([])\n",
    "        plt.show()\n",
    "\n",
    "    def show_test_image(self, index, predicted_label):\n",
    "        plt.imshow(self.x_test_images[index] )\n",
    "        plt.title(\"Actual: Digit \" + str(self.y_test_labels[index]) + \" Predicted: Digit \" + str(predicted_label))\n",
    "        plt.xticks([])\n",
    "        plt.yticks([])\n",
    "        plt.show()\n",
    "        \n",
    "cifar10_data = CIFARClass()\n",
    "        \n",
    "        \n",
    "        "
   ]
  },
  {
   "cell_type": "code",
   "execution_count": 4,
   "metadata": {},
   "outputs": [
    {
     "name": "stdout",
     "output_type": "stream",
     "text": [
      "WARNING:tensorflow:From c:\\Users\\jjfri\\AppData\\Local\\Continuum\\anaconda3\\lib\\site-packages\\tensorflow\\python\\ops\\init_ops.py:1251: calling VarianceScaling.__init__ (from tensorflow.python.ops.init_ops) with dtype is deprecated and will be removed in a future version.\n",
      "Instructions for updating:\n",
      "Call initializer instance with the dtype argument instead of passing it to the constructor\n",
      "Train on 60000 samples, validate on 10000 samples\n",
      "Epoch 1/15\n",
      "60000/60000 [==============================] - 19s 320us/sample - loss: 2.2899 - acc: 0.1959 - val_loss: 2.2736 - val_acc: 0.3028\n",
      "Epoch 2/15\n",
      "60000/60000 [==============================] - 13s 209us/sample - loss: 2.2465 - acc: 0.3716 - val_loss: 2.2042 - val_acc: 0.4411\n",
      "Epoch 3/15\n",
      "60000/60000 [==============================] - 13s 212us/sample - loss: 2.1117 - acc: 0.5221 - val_loss: 1.9522 - val_acc: 0.6454\n",
      "Epoch 4/15\n",
      "60000/60000 [==============================] - 13s 209us/sample - loss: 1.5890 - acc: 0.7266 - val_loss: 1.0987 - val_acc: 0.7927\n",
      "Epoch 5/15\n",
      "60000/60000 [==============================] - 13s 210us/sample - loss: 0.8251 - acc: 0.8081 - val_loss: 0.6176 - val_acc: 0.8402\n",
      "Epoch 6/15\n",
      "60000/60000 [==============================] - 13s 211us/sample - loss: 0.5761 - acc: 0.8412 - val_loss: 0.5022 - val_acc: 0.8603\n",
      "Epoch 7/15\n",
      "60000/60000 [==============================] - 13s 210us/sample - loss: 0.5021 - acc: 0.8573 - val_loss: 0.4568 - val_acc: 0.8707\n",
      "Epoch 8/15\n",
      "60000/60000 [==============================] - 13s 212us/sample - loss: 0.4678 - acc: 0.8665 - val_loss: 0.4321 - val_acc: 0.8771\n",
      "Epoch 9/15\n",
      "60000/60000 [==============================] - 13s 211us/sample - loss: 0.4467 - acc: 0.8720 - val_loss: 0.4153 - val_acc: 0.8826\n",
      "Epoch 10/15\n",
      "60000/60000 [==============================] - 13s 211us/sample - loss: 0.4314 - acc: 0.8771 - val_loss: 0.4024 - val_acc: 0.8872\n",
      "Epoch 11/15\n",
      "60000/60000 [==============================] - 13s 211us/sample - loss: 0.4195 - acc: 0.8806 - val_loss: 0.3921 - val_acc: 0.8901\n",
      "Epoch 12/15\n",
      "60000/60000 [==============================] - 13s 211us/sample - loss: 0.4099 - acc: 0.8829 - val_loss: 0.3837 - val_acc: 0.8924\n",
      "Epoch 13/15\n",
      "60000/60000 [==============================] - 13s 212us/sample - loss: 0.4017 - acc: 0.8857 - val_loss: 0.3765 - val_acc: 0.8942\n",
      "Epoch 14/15\n",
      "60000/60000 [==============================] - 13s 211us/sample - loss: 0.3946 - acc: 0.8873 - val_loss: 0.3699 - val_acc: 0.8946\n",
      "Epoch 15/15\n",
      "60000/60000 [==============================] - 13s 216us/sample - loss: 0.3884 - acc: 0.8892 - val_loss: 0.3645 - val_acc: 0.8966\n",
      "Test Accuracy:  0.8966\n"
     ]
    }
   ],
   "source": [
    "##Running MNIST       MODEL 6-92%\n",
    "from tensorflow.keras.models import Sequential\n",
    "from tensorflow.keras.layers import Dense, Dropout, Flatten, Conv2D, MaxPooling2D\n",
    "\n",
    "def run_model(data):\n",
    "    epochs = 15\n",
    "    batch_size = 200\n",
    "    model = Sequential()\n",
    "    \n",
    "    \n",
    "    model.add(Conv2D(filters = 124, kernel_size=(3, 3), activation='relu'))\n",
    "    model.add(Conv2D(filters = 32, kernel_size=(3, 3), activation='relu'))\n",
    "    model.add(Conv2D(filters = 64, kernel_size=(3, 3), activation='relu'))\n",
    "    \n",
    "# #     adds layers | 2D searching | filters is  num of filter, moves across at 3 by 3 pixel\n",
    "#     model.add(Conv2D(filters = 32, kernel_size=(3, 3), activation='relu', input_shape=data.input_shape))\n",
    "#     model.add(Conv2D(filters = 64, kernel_size=(3, 3), activation='relu'))\n",
    "# #     skips over pixils\n",
    "#     model.add(MaxPooling2D(pool_size=(2,2), strides=2))\n",
    "#     model.add(Dense(units = 128, activation='relu'))\n",
    "# #     doesnt activate all nuerons\n",
    "#     model.add(Dropout(rate=0.5))\n",
    "\n",
    "    model.add(Flatten())\n",
    "    model.add(Dense(units = data.num_classes, activation='softmax'))\n",
    "    \n",
    "    model.compile(loss=keras.losses.categorical_crossentropy, optimizer=keras.optimizers.Adadelta(), metrics=['accuracy'])\n",
    "    model.fit(data.x_train, data.y_train, batch_size = batch_size, epochs = epochs, validation_data = (data.x_test, data.y_test), shuffle = True)\n",
    "    scores = model.evaluate(data.x_test, data.y_test, verbose = 0)\n",
    "    print(\"Test Accuracy: \", scores[1])\n",
    "    return model\n",
    "\n",
    "mnist_model = run_model(mnist_data)\n",
    "# cifar10_model = run_model(cifar10_data)"
   ]
  },
  {
   "cell_type": "code",
   "execution_count": 5,
   "metadata": {},
   "outputs": [
    {
     "data": {
      "image/png": "[encoded data removed]",
      "text/plain": [
       "<Figure size 432x288 with 1 Axes>"
      ]
     },
     "metadata": {},
     "output_type": "display_data"
    },
    {
     "data": {
      "image/png": "[encoded data removed]",
      "text/plain": [
       "<Figure size 432x288 with 1 Axes>"
      ]
     },
     "metadata": {},
     "output_type": "display_data"
    },
    {
     "data": {
      "image/png": "[encoded data removed]",
      "text/plain": [
       "<Figure size 432x288 with 1 Axes>"
      ]
     },
     "metadata": {},
     "output_type": "display_data"
    },
    {
     "data": {
      "image/png": "[encoded data removed]",
      "text/plain": [
       "<Figure size 432x288 with 1 Axes>"
      ]
     },
     "metadata": {},
     "output_type": "display_data"
    },
    {
     "data": {
      "image/png": "[encoded data removed]",
      "text/plain": [
       "<Figure size 432x288 with 1 Axes>"
      ]
     },
     "metadata": {},
     "output_type": "display_data"
    }
   ],
   "source": [
    "#Showing Incorect Images\n",
    "import random\n",
    "\n",
    "def incorrect_images(data, model, num):\n",
    "    predicted_labels = model.predict(data.x_test)\n",
    "    incorrect_indicies = []\n",
    "    \n",
    "    for index in range(len(predicted_labels)):\n",
    "        if predicted_labels[index].argmax() != data.y_test_labels[index]:\n",
    "            incorrect_indicies.append(index)\n",
    "            \n",
    "    incorrect_indicies = random.sample(incorrect_indicies, num)\n",
    "        \n",
    "    for image in incorrect_indicies:\n",
    "        data.show_test_image(image, predicted_labels[image].argmax())\n",
    "        \n",
    "def correct_images(data, model, num):\n",
    "    predicted_labels = model.predict(data.x_test)\n",
    "    correct_indicies = []\n",
    "    \n",
    "    for index in range(len(predicted_labels)):\n",
    "        if predicted_labels[index].argmax() == data.y_test_labels[index]:\n",
    "            correct_indicies.append(index)\n",
    "            \n",
    "    incorrect_indicies = random.sample(correct_indicies, num)\n",
    "        \n",
    "    for image in incorrect_indicies:\n",
    "        data.show_test_image(image, predicted_labels[image].argmax())\n",
    "            \n",
    "# Incorrect Imgaes\n",
    "correct_images(mnist_data, mnist_model, 5)"
   ]
  },
  {
   "cell_type": "code",
   "execution_count": 6,
   "metadata": {},
   "outputs": [
    {
     "name": "stdout",
     "output_type": "stream",
     "text": [
      "Train on 50000 samples, validate on 10000 samples\n",
      "Epoch 1/5\n",
      "50000/50000 [==============================] - 33s 666us/sample - loss: 2.3014 - acc: 0.1025 - val_loss: 2.2985 - val_acc: 0.1234\n",
      "Epoch 2/5\n",
      "50000/50000 [==============================] - 30s 594us/sample - loss: 2.2976 - acc: 0.1154 - val_loss: 2.2943 - val_acc: 0.1174\n",
      "Epoch 3/5\n",
      "50000/50000 [==============================] - 29s 585us/sample - loss: 2.2924 - acc: 0.1225 - val_loss: 2.2883 - val_acc: 0.1158\n",
      "Epoch 4/5\n",
      "50000/50000 [==============================] - 30s 608us/sample - loss: 2.2859 - acc: 0.1204 - val_loss: 2.2792 - val_acc: 0.1223\n",
      "Epoch 5/5\n",
      "50000/50000 [==============================] - 31s 626us/sample - loss: 2.2750 - acc: 0.1314 - val_loss: 2.2634 - val_acc: 0.1384\n",
      "Test Accuracy:  0.1384\n"
     ]
    }
   ],
   "source": [
    "def run_model(data):\n",
    "    epochs = 5\n",
    "    batch_size = 20\n",
    "    model = Sequential()\n",
    "    \n",
    "    \n",
    "    model.add(Conv2D(filters = 64, kernel_size=(3, 3), activation='relu'))\n",
    "    model.add(Conv2D(filters = 32, kernel_size=(3, 3), activation='relu', input_shape=data.input_shape))\n",
    "    model.add(MaxPooling2D(pool_size=(2,2), strides=2))\n",
    "    model.add(Dense(units = 128, activation='relu'))\n",
    "    model.add(Dropout(rate=0.5))\n",
    "    model.add(Conv2D(filters = 64, kernel_size=(3, 3), activation='relu'))\n",
    "    model.add(Conv2D(filters = 32, kernel_size=(3, 3), activation='relu'))\n",
    "\n",
    "    model.add(Flatten())\n",
    "    model.add(Dense(units = data.num_classes, activation='softmax'))\n",
    "    \n",
    "    model.compile(loss=keras.losses.categorical_crossentropy, optimizer=keras.optimizers.Adadelta(), metrics=['accuracy'])\n",
    "    model.fit(data.x_train, data.y_train, batch_size = batch_size, epochs = epochs, validation_data = (data.x_test, data.y_test), shuffle = True)\n",
    "    scores = model.evaluate(data.x_test, data.y_test, verbose = 0)\n",
    "    print(\"Test Accuracy: \", scores[1])\n",
    "    return model\n",
    "\n",
    "# mnist_model = run_model(mnist_data)\n",
    "cifar10_model = run_model(cifar10_data)"
   ]
  },
  {
   "cell_type": "code",
   "execution_count": 7,
   "metadata": {},
   "outputs": [
    {
     "data": {
      "image/png": "[encoded data removed]",
      "text/plain": [
       "<Figure size 432x288 with 1 Axes>"
      ]
     },
     "metadata": {},
     "output_type": "display_data"
    }
   ],
   "source": [
    "incorrect_images(cifar10_data, cifar10_model, 1)"
   ]
  },
  {
   "cell_type": "code",
   "execution_count": null,
   "metadata": {},
   "outputs": [],
   "source": []
  }
 ],
 "metadata": {
  "kernelspec": {
   "display_name": "Python 3.7.3 ('base')",
   "language": "python",
   "name": "python3"
  },
  "language_info": {
   "codemirror_mode": {
    "name": "ipython",
    "version": 3
   },
   "file_extension": ".py",
   "mimetype": "text/x-python",
   "name": "python",
   "nbconvert_exporter": "python",
   "pygments_lexer": "ipython3",
   "version": "3.7.3"
  },
  "vscode": {
   "interpreter": {
    "hash": "e7f9b176e99b0b7699e163eb9975710d46148f2747eaa4ceb3869c0d6f92460c"
   }
  }
 },
 "nbformat": 4,
 "nbformat_minor": 2
}
